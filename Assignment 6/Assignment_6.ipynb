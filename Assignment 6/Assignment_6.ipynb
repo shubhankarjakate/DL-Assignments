{
  "cells": [
    {
      "cell_type": "code",
      "metadata": {
        "colab": {
          "base_uri": "https://localhost:8080/"
        },
        "id": "05e9Np4BIE8x",
        "outputId": "ba11e4fe-6415-4c0f-c032-de9b1e7be410"
      },
      "execution_count": 1,
      "outputs": [
        {
          "output_type": "stream",
          "name": "stdout",
          "text": [
            "Mounting Google Drive (skip if not needed)...\n",
            "Mount skipped or failed: Error: credential propagation was unsuccessful\n"
          ]
        }
      ],
      "source": [
        "from google.colab import drive\n",
        "print(\"Mounting Google Drive (skip if not needed)...\")\n",
        "try:\n",
        "    drive.mount('/content/drive')\n",
        "except Exception as e:\n",
        "    print('Mount skipped or failed:', e)\n"
      ],
      "id": "05e9Np4BIE8x"
    },
    {
      "cell_type": "code",
      "metadata": {
        "colab": {
          "base_uri": "https://localhost:8080/"
        },
        "id": "yb1W9r0uIE8y",
        "outputId": "c7efd0c4-871b-4550-909b-fc5522abefe0"
      },
      "execution_count": 2,
      "outputs": [
        {
          "output_type": "stream",
          "name": "stdout",
          "text": [
            "TensorFlow version: 2.19.0\n"
          ]
        }
      ],
      "source": [
        "import os\n",
        "import re\n",
        "import numpy as np\n",
        "import pandas as pd\n",
        "import matplotlib.pyplot as plt\n",
        "from sklearn.model_selection import train_test_split\n",
        "from sklearn.metrics import classification_report, confusion_matrix\n",
        "import tensorflow as tf\n",
        "from tensorflow.keras.preprocessing.sequence import pad_sequences\n",
        "from tensorflow.keras.preprocessing.text import Tokenizer\n",
        "from tensorflow.keras.callbacks import EarlyStopping, ModelCheckpoint, ReduceLROnPlateau\n",
        "\n",
        "print('TensorFlow version:', tf.__version__)"
      ],
      "id": "yb1W9r0uIE8y"
    },
    {
      "cell_type": "code",
      "metadata": {
        "colab": {
          "base_uri": "https://localhost:8080/"
        },
        "id": "KanGWJt9IE8z",
        "outputId": "9d87d6cc-9896-4205-b0fe-4e4046bae323"
      },
      "execution_count": 3,
      "outputs": [
        {
          "output_type": "execute_result",
          "data": {
            "text/plain": [
              "{'VOCAB_SIZE': 20000,\n",
              " 'MAXLEN': 200,\n",
              " 'EMBEDDING_DIM': 100,\n",
              " 'BATCH_SIZE': 128,\n",
              " 'EPOCHS': 10,\n",
              " 'RNN_UNITS': 128,\n",
              " 'DROPOUT': 0.5,\n",
              " 'MODEL_DIR': '/content/drive/MyDrive/sentiment_models'}"
            ]
          },
          "metadata": {},
          "execution_count": 3
        }
      ],
      "source": [
        "# Configuration\n",
        "CONFIG = {\n",
        "    'VOCAB_SIZE': 20000,     # top N words to keep\n",
        "    'MAXLEN': 200,           # max tokens per sample\n",
        "    'EMBEDDING_DIM': 100,    # 50/100/200 depending on GloVe you download\n",
        "    'BATCH_SIZE': 128,\n",
        "    'EPOCHS': 10,\n",
        "    'RNN_UNITS': 128,\n",
        "    'DROPOUT': 0.5,\n",
        "    'MODEL_DIR': '/content/drive/MyDrive/sentiment_models'\n",
        "}\n",
        "os.makedirs(CONFIG['MODEL_DIR'], exist_ok=True)\n",
        "CONFIG"
      ],
      "id": "KanGWJt9IE8z"
    },
    {
      "cell_type": "code",
      "metadata": {
        "colab": {
          "base_uri": "https://localhost:8080/"
        },
        "id": "e0N-vX-SIE8z",
        "outputId": "72cbc5dc-45b3-43bd-9419-2555b292cf14"
      },
      "execution_count": 4,
      "outputs": [
        {
          "output_type": "stream",
          "name": "stdout",
          "text": [
            "Loading Keras IMDB dataset...\n",
            "Downloading data from https://storage.googleapis.com/tensorflow/tf-keras-datasets/imdb.npz\n",
            "\u001b[1m17464789/17464789\u001b[0m \u001b[32m━━━━━━━━━━━━━━━━━━━━\u001b[0m\u001b[37m\u001b[0m \u001b[1m0s\u001b[0m 0us/step\n",
            "train shape: (25000, 200) test shape: (25000, 200)\n",
            "Downloading data from https://storage.googleapis.com/tensorflow/tf-keras-datasets/imdb_word_index.json\n",
            "\u001b[1m1641221/1641221\u001b[0m \u001b[32m━━━━━━━━━━━━━━━━━━━━\u001b[0m\u001b[37m\u001b[0m \u001b[1m0s\u001b[0m 0us/step\n"
          ]
        }
      ],
      "source": [
        "\n",
        "USE_IMDB = True   # set to False if  want to load your own CSV\n",
        "CSV_PATH = '/content/drive/MyDrive/your_sentiment_dataset.csv'\n",
        "\n",
        "if USE_IMDB:\n",
        "    print('Loading Keras IMDB dataset...')\n",
        "    VOCAB_SIZE = CONFIG['VOCAB_SIZE']\n",
        "    (x_train, y_train), (x_test, y_test) = tf.keras.datasets.imdb.load_data(num_words=VOCAB_SIZE)\n",
        "    x_train = pad_sequences(x_train, maxlen=CONFIG['MAXLEN'], padding='post', truncating='post')\n",
        "    x_test = pad_sequences(x_test, maxlen=CONFIG['MAXLEN'], padding='post', truncating='post')\n",
        "    print('train shape:', x_train.shape, 'test shape:', x_test.shape)\n",
        "\n",
        "    word_index = tf.keras.datasets.imdb.get_word_index()\n",
        "    index_word = {v+3:k for k,v in word_index.items()}\n",
        "    index_word[0] = '<PAD>'\n",
        "    index_word[1] = '<START>'\n",
        "    index_word[2] = '<UNK>'\n",
        "    index_word[3] = '<UNUSED>'\n",
        "else:\n",
        "    print('Loading CSV dataset from:', CSV_PATH)\n",
        "    df = pd.read_csv(CSV_PATH)\n",
        "    assert 'text' in df.columns and 'label' in df.columns, 'CSV must contain text and label columns'\n",
        "    df['text'] = df['text'].astype(str)\n",
        "    df['label'] = df['label'].astype(int)\n",
        "    train_texts, test_texts, y_train, y_test = train_test_split(df['text'].values, df['label'].values, test_size=0.2, random_state=42)\n",
        "    tokenizer = Tokenizer(num_words=CONFIG['VOCAB_SIZE'], oov_token='<OOV>')\n",
        "    tokenizer.fit_on_texts(train_texts)\n",
        "    x_train = tokenizer.texts_to_sequences(train_texts)\n",
        "    x_train = pad_sequences(x_train, maxlen=CONFIG['MAXLEN'], padding='post', truncating='post')\n",
        "    x_test = tokenizer.texts_to_sequences(test_texts)\n",
        "    x_test = pad_sequences(x_test, maxlen=CONFIG['MAXLEN'], padding='post', truncating='post')\n",
        "    print('train shape:', x_train.shape, 'test shape:', x_test.shape)\n"
      ],
      "id": "e0N-vX-SIE8z"
    },
    {
      "cell_type": "code",
      "metadata": {
        "id": "HkrTEYFTIE80"
      },
      "execution_count": 5,
      "outputs": [],
      "source": [
        "USE_GLOVE = False\n",
        "embedding_matrix = None\n",
        "if USE_GLOVE:\n",
        "    !wget -q http://nlp.stanford.edu/data/glove.6B.zip -O glove.6B.zip\n",
        "    !unzip -q glove.6B.zip -d glove.6B\n",
        "    glove_path = '/content/glove.6B/glove.6B.100d.txt'\n",
        "    EMBEDDING_DIM = CONFIG['EMBEDDING_DIM']\n",
        "    embedding_index = {}\n",
        "    with open(glove_path, 'r', encoding='utf8') as f:\n",
        "        for line in f:\n",
        "            values = line.split()\n",
        "            word = values[0]\n",
        "            coeffs = np.asarray(values[1:], dtype='float32')\n",
        "            embedding_index[word] = coeffs\n",
        "    print('Found %d word vectors.' % len(embedding_index))\n",
        "    vocab_size = CONFIG['VOCAB_SIZE']\n",
        "    embedding_matrix = np.zeros((vocab_size, EMBEDDING_DIM))\n",
        "    if USE_IMDB:\n",
        "        for word, i in word_index.items():\n",
        "            if i < vocab_size:\n",
        "                embedding_vector = embedding_index.get(word)\n",
        "                if embedding_vector is not None:\n",
        "                    embedding_matrix[i] = embedding_vector\n",
        "    else:\n",
        "        word_index_local = tokenizer.word_index\n",
        "        for word, i in word_index_local.items():\n",
        "            if i < vocab_size:\n",
        "                embedding_vector = embedding_index.get(word)\n",
        "                if embedding_vector is not None:\n",
        "                    embedding_matrix[i] = embedding_vector\n"
      ],
      "id": "HkrTEYFTIE80"
    },
    {
      "cell_type": "code",
      "metadata": {
        "colab": {
          "base_uri": "https://localhost:8080/",
          "height": 404
        },
        "id": "3ZpdBeudIE80",
        "outputId": "5cdf1eb1-2d07-4e17-96f0-8aa1b2da4055"
      },
      "execution_count": 6,
      "outputs": [
        {
          "output_type": "stream",
          "name": "stderr",
          "text": [
            "/usr/local/lib/python3.12/dist-packages/keras/src/layers/core/embedding.py:97: UserWarning: Argument `input_length` is deprecated. Just remove it.\n",
            "  warnings.warn(\n"
          ]
        },
        {
          "output_type": "display_data",
          "data": {
            "text/plain": [
              "\u001b[1mModel: \"functional\"\u001b[0m\n"
            ],
            "text/html": [
              "<pre style=\"white-space:pre;overflow-x:auto;line-height:normal;font-family:Menlo,'DejaVu Sans Mono',consolas,'Courier New',monospace\"><span style=\"font-weight: bold\">Model: \"functional\"</span>\n",
              "</pre>\n"
            ]
          },
          "metadata": {}
        },
        {
          "output_type": "display_data",
          "data": {
            "text/plain": [
              "┏━━━━━━━━━━━━━━━━━━━━━━━━━━━━━━━━━┳━━━━━━━━━━━━━━━━━━━━━━━━┳━━━━━━━━━━━━━━━┓\n",
              "┃\u001b[1m \u001b[0m\u001b[1mLayer (type)                   \u001b[0m\u001b[1m \u001b[0m┃\u001b[1m \u001b[0m\u001b[1mOutput Shape          \u001b[0m\u001b[1m \u001b[0m┃\u001b[1m \u001b[0m\u001b[1m      Param #\u001b[0m\u001b[1m \u001b[0m┃\n",
              "┡━━━━━━━━━━━━━━━━━━━━━━━━━━━━━━━━━╇━━━━━━━━━━━━━━━━━━━━━━━━╇━━━━━━━━━━━━━━━┩\n",
              "│ input_layer (\u001b[38;5;33mInputLayer\u001b[0m)        │ (\u001b[38;5;45mNone\u001b[0m, \u001b[38;5;34m200\u001b[0m)            │             \u001b[38;5;34m0\u001b[0m │\n",
              "├─────────────────────────────────┼────────────────────────┼───────────────┤\n",
              "│ embedding (\u001b[38;5;33mEmbedding\u001b[0m)           │ (\u001b[38;5;45mNone\u001b[0m, \u001b[38;5;34m200\u001b[0m, \u001b[38;5;34m100\u001b[0m)       │     \u001b[38;5;34m2,000,000\u001b[0m │\n",
              "├─────────────────────────────────┼────────────────────────┼───────────────┤\n",
              "│ spatial_dropout1d               │ (\u001b[38;5;45mNone\u001b[0m, \u001b[38;5;34m200\u001b[0m, \u001b[38;5;34m100\u001b[0m)       │             \u001b[38;5;34m0\u001b[0m │\n",
              "│ (\u001b[38;5;33mSpatialDropout1D\u001b[0m)              │                        │               │\n",
              "├─────────────────────────────────┼────────────────────────┼───────────────┤\n",
              "│ bidirectional (\u001b[38;5;33mBidirectional\u001b[0m)   │ (\u001b[38;5;45mNone\u001b[0m, \u001b[38;5;34m256\u001b[0m)            │       \u001b[38;5;34m234,496\u001b[0m │\n",
              "├─────────────────────────────────┼────────────────────────┼───────────────┤\n",
              "│ dense (\u001b[38;5;33mDense\u001b[0m)                   │ (\u001b[38;5;45mNone\u001b[0m, \u001b[38;5;34m64\u001b[0m)             │        \u001b[38;5;34m16,448\u001b[0m │\n",
              "├─────────────────────────────────┼────────────────────────┼───────────────┤\n",
              "│ dropout (\u001b[38;5;33mDropout\u001b[0m)               │ (\u001b[38;5;45mNone\u001b[0m, \u001b[38;5;34m64\u001b[0m)             │             \u001b[38;5;34m0\u001b[0m │\n",
              "├─────────────────────────────────┼────────────────────────┼───────────────┤\n",
              "│ dense_1 (\u001b[38;5;33mDense\u001b[0m)                 │ (\u001b[38;5;45mNone\u001b[0m, \u001b[38;5;34m1\u001b[0m)              │            \u001b[38;5;34m65\u001b[0m │\n",
              "└─────────────────────────────────┴────────────────────────┴───────────────┘\n"
            ],
            "text/html": [
              "<pre style=\"white-space:pre;overflow-x:auto;line-height:normal;font-family:Menlo,'DejaVu Sans Mono',consolas,'Courier New',monospace\">┏━━━━━━━━━━━━━━━━━━━━━━━━━━━━━━━━━┳━━━━━━━━━━━━━━━━━━━━━━━━┳━━━━━━━━━━━━━━━┓\n",
              "┃<span style=\"font-weight: bold\"> Layer (type)                    </span>┃<span style=\"font-weight: bold\"> Output Shape           </span>┃<span style=\"font-weight: bold\">       Param # </span>┃\n",
              "┡━━━━━━━━━━━━━━━━━━━━━━━━━━━━━━━━━╇━━━━━━━━━━━━━━━━━━━━━━━━╇━━━━━━━━━━━━━━━┩\n",
              "│ input_layer (<span style=\"color: #0087ff; text-decoration-color: #0087ff\">InputLayer</span>)        │ (<span style=\"color: #00d7ff; text-decoration-color: #00d7ff\">None</span>, <span style=\"color: #00af00; text-decoration-color: #00af00\">200</span>)            │             <span style=\"color: #00af00; text-decoration-color: #00af00\">0</span> │\n",
              "├─────────────────────────────────┼────────────────────────┼───────────────┤\n",
              "│ embedding (<span style=\"color: #0087ff; text-decoration-color: #0087ff\">Embedding</span>)           │ (<span style=\"color: #00d7ff; text-decoration-color: #00d7ff\">None</span>, <span style=\"color: #00af00; text-decoration-color: #00af00\">200</span>, <span style=\"color: #00af00; text-decoration-color: #00af00\">100</span>)       │     <span style=\"color: #00af00; text-decoration-color: #00af00\">2,000,000</span> │\n",
              "├─────────────────────────────────┼────────────────────────┼───────────────┤\n",
              "│ spatial_dropout1d               │ (<span style=\"color: #00d7ff; text-decoration-color: #00d7ff\">None</span>, <span style=\"color: #00af00; text-decoration-color: #00af00\">200</span>, <span style=\"color: #00af00; text-decoration-color: #00af00\">100</span>)       │             <span style=\"color: #00af00; text-decoration-color: #00af00\">0</span> │\n",
              "│ (<span style=\"color: #0087ff; text-decoration-color: #0087ff\">SpatialDropout1D</span>)              │                        │               │\n",
              "├─────────────────────────────────┼────────────────────────┼───────────────┤\n",
              "│ bidirectional (<span style=\"color: #0087ff; text-decoration-color: #0087ff\">Bidirectional</span>)   │ (<span style=\"color: #00d7ff; text-decoration-color: #00d7ff\">None</span>, <span style=\"color: #00af00; text-decoration-color: #00af00\">256</span>)            │       <span style=\"color: #00af00; text-decoration-color: #00af00\">234,496</span> │\n",
              "├─────────────────────────────────┼────────────────────────┼───────────────┤\n",
              "│ dense (<span style=\"color: #0087ff; text-decoration-color: #0087ff\">Dense</span>)                   │ (<span style=\"color: #00d7ff; text-decoration-color: #00d7ff\">None</span>, <span style=\"color: #00af00; text-decoration-color: #00af00\">64</span>)             │        <span style=\"color: #00af00; text-decoration-color: #00af00\">16,448</span> │\n",
              "├─────────────────────────────────┼────────────────────────┼───────────────┤\n",
              "│ dropout (<span style=\"color: #0087ff; text-decoration-color: #0087ff\">Dropout</span>)               │ (<span style=\"color: #00d7ff; text-decoration-color: #00d7ff\">None</span>, <span style=\"color: #00af00; text-decoration-color: #00af00\">64</span>)             │             <span style=\"color: #00af00; text-decoration-color: #00af00\">0</span> │\n",
              "├─────────────────────────────────┼────────────────────────┼───────────────┤\n",
              "│ dense_1 (<span style=\"color: #0087ff; text-decoration-color: #0087ff\">Dense</span>)                 │ (<span style=\"color: #00d7ff; text-decoration-color: #00d7ff\">None</span>, <span style=\"color: #00af00; text-decoration-color: #00af00\">1</span>)              │            <span style=\"color: #00af00; text-decoration-color: #00af00\">65</span> │\n",
              "└─────────────────────────────────┴────────────────────────┴───────────────┘\n",
              "</pre>\n"
            ]
          },
          "metadata": {}
        },
        {
          "output_type": "display_data",
          "data": {
            "text/plain": [
              "\u001b[1m Total params: \u001b[0m\u001b[38;5;34m2,251,009\u001b[0m (8.59 MB)\n"
            ],
            "text/html": [
              "<pre style=\"white-space:pre;overflow-x:auto;line-height:normal;font-family:Menlo,'DejaVu Sans Mono',consolas,'Courier New',monospace\"><span style=\"font-weight: bold\"> Total params: </span><span style=\"color: #00af00; text-decoration-color: #00af00\">2,251,009</span> (8.59 MB)\n",
              "</pre>\n"
            ]
          },
          "metadata": {}
        },
        {
          "output_type": "display_data",
          "data": {
            "text/plain": [
              "\u001b[1m Trainable params: \u001b[0m\u001b[38;5;34m2,251,009\u001b[0m (8.59 MB)\n"
            ],
            "text/html": [
              "<pre style=\"white-space:pre;overflow-x:auto;line-height:normal;font-family:Menlo,'DejaVu Sans Mono',consolas,'Courier New',monospace\"><span style=\"font-weight: bold\"> Trainable params: </span><span style=\"color: #00af00; text-decoration-color: #00af00\">2,251,009</span> (8.59 MB)\n",
              "</pre>\n"
            ]
          },
          "metadata": {}
        },
        {
          "output_type": "display_data",
          "data": {
            "text/plain": [
              "\u001b[1m Non-trainable params: \u001b[0m\u001b[38;5;34m0\u001b[0m (0.00 B)\n"
            ],
            "text/html": [
              "<pre style=\"white-space:pre;overflow-x:auto;line-height:normal;font-family:Menlo,'DejaVu Sans Mono',consolas,'Courier New',monospace\"><span style=\"font-weight: bold\"> Non-trainable params: </span><span style=\"color: #00af00; text-decoration-color: #00af00\">0</span> (0.00 B)\n",
              "</pre>\n"
            ]
          },
          "metadata": {}
        }
      ],
      "source": [
        "from tensorflow.keras import layers, Model\n",
        "\n",
        "def build_rnn_model(rnn_type='LSTM', vocab_size=CONFIG['VOCAB_SIZE'], embedding_dim=CONFIG['EMBEDDING_DIM'], maxlen=CONFIG['MAXLEN'],\n",
        "                    rnn_units=CONFIG['RNN_UNITS'], dropout=CONFIG['DROPOUT'], embedding_matrix=None, bidirectional=False):\n",
        "    inputs = layers.Input(shape=(maxlen, ), dtype='int32')\n",
        "    if embedding_matrix is not None:\n",
        "        emb = layers.Embedding(input_dim=vocab_size, output_dim=embedding_dim, weights=[embedding_matrix], input_length=maxlen, trainable=False)(inputs)\n",
        "    else:\n",
        "        emb = layers.Embedding(input_dim=vocab_size, output_dim=embedding_dim, input_length=maxlen)(inputs)\n",
        "    x = layers.SpatialDropout1D(0.2)(emb)\n",
        "    if rnn_type.upper() == 'LSTM':\n",
        "        core = layers.LSTM(rnn_units, return_sequences=False)\n",
        "    elif rnn_type.upper() == 'GRU':\n",
        "        core = layers.GRU(rnn_units, return_sequences=False)\n",
        "    else:\n",
        "        raise ValueError('rnn_type must be either LSTM or GRU')\n",
        "    if bidirectional:\n",
        "        x = layers.Bidirectional(core)(x)\n",
        "    else:\n",
        "        x = core(x)\n",
        "    x = layers.Dense(64, activation='relu')(x)\n",
        "    x = layers.Dropout(dropout)(x)\n",
        "    outputs = layers.Dense(1, activation='sigmoid')(x)\n",
        "    model = Model(inputs=inputs, outputs=outputs)\n",
        "    model.compile(loss='binary_crossentropy', optimizer='adam', metrics=['accuracy'])\n",
        "    return model\n",
        "\n",
        "# Quick model summary example\n",
        "model = build_rnn_model(rnn_type='LSTM', embedding_matrix=embedding_matrix, bidirectional=True)\n",
        "model.summary()\n"
      ],
      "id": "3ZpdBeudIE80"
    },
    {
      "cell_type": "code",
      "metadata": {
        "colab": {
          "base_uri": "https://localhost:8080/"
        },
        "id": "s4wVQZY_IE80",
        "outputId": "c75e1555-af18-4637-9d78-65e2ff4ec540"
      },
      "execution_count": 7,
      "outputs": [
        {
          "output_type": "execute_result",
          "data": {
            "text/plain": [
              "[<keras.src.callbacks.early_stopping.EarlyStopping at 0x7f4a578549e0>,\n",
              " <keras.src.callbacks.reduce_lr_on_plateau.ReduceLROnPlateau at 0x7f4a57856390>,\n",
              " <keras.src.callbacks.model_checkpoint.ModelCheckpoint at 0x7f4a575bcbf0>]"
            ]
          },
          "metadata": {},
          "execution_count": 7
        }
      ],
      "source": [
        "callbacks = [\n",
        "    EarlyStopping(monitor='val_loss', patience=3, restore_best_weights=True),\n",
        "    ReduceLROnPlateau(monitor='val_loss', factor=0.5, patience=2, verbose=1),\n",
        "    ModelCheckpoint(os.path.join(CONFIG['MODEL_DIR'], 'best_model.h5'), save_best_only=True, monitor='val_loss')\n",
        "]\n",
        "callbacks\n"
      ],
      "id": "s4wVQZY_IE80"
    },
    {
      "cell_type": "code",
      "metadata": {
        "colab": {
          "base_uri": "https://localhost:8080/"
        },
        "id": "5B8KkyKfIE81",
        "outputId": "59b50ced-c7e2-4068-e3b9-3c691865e88f"
      },
      "execution_count": 8,
      "outputs": [
        {
          "output_type": "stream",
          "name": "stdout",
          "text": [
            "Epoch 1/10\n",
            "\u001b[1m175/176\u001b[0m \u001b[32m━━━━━━━━━━━━━━━━━━━\u001b[0m\u001b[37m━\u001b[0m \u001b[1m0s\u001b[0m 31ms/step - accuracy: 0.6161 - loss: 0.6192"
          ]
        },
        {
          "output_type": "stream",
          "name": "stderr",
          "text": [
            "WARNING:absl:You are saving your model as an HDF5 file via `model.save()` or `keras.saving.save_model(model)`. This file format is considered legacy. We recommend using instead the native Keras format, e.g. `model.save('my_model.keras')` or `keras.saving.save_model(model, 'my_model.keras')`. \n"
          ]
        },
        {
          "output_type": "stream",
          "name": "stdout",
          "text": [
            "\b\b\b\b\b\b\b\b\b\b\b\b\b\b\b\b\b\b\b\b\b\b\b\b\b\b\b\b\b\b\b\b\b\b\b\b\b\b\b\b\b\b\b\b\b\b\b\b\b\b\b\b\b\b\b\b\b\b\b\b\b\b\b\b\b\b\b\b\b\b\b\b\b\b\b\r\u001b[1m176/176\u001b[0m \u001b[32m━━━━━━━━━━━━━━━━━━━━\u001b[0m\u001b[37m\u001b[0m \u001b[1m11s\u001b[0m 36ms/step - accuracy: 0.6174 - loss: 0.6181 - val_accuracy: 0.8492 - val_loss: 0.3702 - learning_rate: 0.0010\n",
            "Epoch 2/10\n",
            "\u001b[1m176/176\u001b[0m \u001b[32m━━━━━━━━━━━━━━━━━━━━\u001b[0m\u001b[37m\u001b[0m \u001b[1m7s\u001b[0m 32ms/step - accuracy: 0.8909 - loss: 0.2949 - val_accuracy: 0.8596 - val_loss: 0.3851 - learning_rate: 0.0010\n",
            "Epoch 3/10\n",
            "\u001b[1m175/176\u001b[0m \u001b[32m━━━━━━━━━━━━━━━━━━━\u001b[0m\u001b[37m━\u001b[0m \u001b[1m0s\u001b[0m 31ms/step - accuracy: 0.9294 - loss: 0.2083"
          ]
        },
        {
          "output_type": "stream",
          "name": "stderr",
          "text": [
            "WARNING:absl:You are saving your model as an HDF5 file via `model.save()` or `keras.saving.save_model(model)`. This file format is considered legacy. We recommend using instead the native Keras format, e.g. `model.save('my_model.keras')` or `keras.saving.save_model(model, 'my_model.keras')`. \n"
          ]
        },
        {
          "output_type": "stream",
          "name": "stdout",
          "text": [
            "\b\b\b\b\b\b\b\b\b\b\b\b\b\b\b\b\b\b\b\b\b\b\b\b\b\b\b\b\b\b\b\b\b\b\b\b\b\b\b\b\b\b\b\b\b\b\b\b\b\b\b\b\b\b\b\b\b\b\b\b\b\b\b\b\b\b\b\b\b\b\b\b\b\b\b\r\u001b[1m176/176\u001b[0m \u001b[32m━━━━━━━━━━━━━━━━━━━━\u001b[0m\u001b[37m\u001b[0m \u001b[1m10s\u001b[0m 34ms/step - accuracy: 0.9293 - loss: 0.2083 - val_accuracy: 0.8708 - val_loss: 0.3481 - learning_rate: 0.0010\n",
            "Epoch 4/10\n",
            "\u001b[1m176/176\u001b[0m \u001b[32m━━━━━━━━━━━━━━━━━━━━\u001b[0m\u001b[37m\u001b[0m \u001b[1m10s\u001b[0m 34ms/step - accuracy: 0.9536 - loss: 0.1421 - val_accuracy: 0.8656 - val_loss: 0.4003 - learning_rate: 0.0010\n",
            "Epoch 5/10\n",
            "\u001b[1m175/176\u001b[0m \u001b[32m━━━━━━━━━━━━━━━━━━━\u001b[0m\u001b[37m━\u001b[0m \u001b[1m0s\u001b[0m 31ms/step - accuracy: 0.9674 - loss: 0.1064\n",
            "Epoch 5: ReduceLROnPlateau reducing learning rate to 0.0005000000237487257.\n",
            "\u001b[1m176/176\u001b[0m \u001b[32m━━━━━━━━━━━━━━━━━━━━\u001b[0m\u001b[37m\u001b[0m \u001b[1m6s\u001b[0m 33ms/step - accuracy: 0.9674 - loss: 0.1065 - val_accuracy: 0.8596 - val_loss: 0.4055 - learning_rate: 0.0010\n",
            "Epoch 6/10\n",
            "\u001b[1m176/176\u001b[0m \u001b[32m━━━━━━━━━━━━━━━━━━━━\u001b[0m\u001b[37m\u001b[0m \u001b[1m6s\u001b[0m 34ms/step - accuracy: 0.9795 - loss: 0.0622 - val_accuracy: 0.8576 - val_loss: 0.5757 - learning_rate: 5.0000e-04\n"
          ]
        }
      ],
      "source": [
        "history = model.fit(\n",
        "    x_train, y_train,\n",
        "    epochs=CONFIG['EPOCHS'],\n",
        "    batch_size=CONFIG['BATCH_SIZE'],\n",
        "    validation_split=0.1,\n",
        "    callbacks=callbacks\n",
        ")\n"
      ],
      "id": "5B8KkyKfIE81"
    },
    {
      "cell_type": "code",
      "metadata": {
        "colab": {
          "base_uri": "https://localhost:8080/",
          "height": 391
        },
        "id": "d096PZepIE81",
        "outputId": "c3febd3d-1d31-40cc-c394-283bdd771b1b"
      },
      "execution_count": 9,
      "outputs": [
        {
          "output_type": "display_data",
          "data": {
            "text/plain": [
              "<Figure size 1200x400 with 2 Axes>"
            ],
            "image/png": "[encoded data removed]"
          },
          "metadata": {}
        }
      ],
      "source": [
        "plt.figure(figsize=(12,4))\n",
        "plt.subplot(1,2,1)\n",
        "plt.plot(history.history['loss'], label='train_loss')\n",
        "plt.plot(history.history['val_loss'], label='val_loss')\n",
        "plt.legend()\n",
        "plt.title('Loss')\n",
        "plt.subplot(1,2,2)\n",
        "plt.plot(history.history['accuracy'], label='train_acc')\n",
        "plt.plot(history.history['val_accuracy'], label='val_acc')\n",
        "plt.legend()\n",
        "plt.title('Accuracy')\n",
        "plt.show()\n"
      ],
      "id": "d096PZepIE81"
    },
    {
      "cell_type": "code",
      "metadata": {
        "colab": {
          "base_uri": "https://localhost:8080/",
          "height": 752
        },
        "id": "Mg6IAgeaIE81",
        "outputId": "6957b93d-ca36-4173-d7be-6ff64f36c6cd"
      },
      "execution_count": 10,
      "outputs": [
        {
          "output_type": "stream",
          "name": "stdout",
          "text": [
            "\u001b[1m196/196\u001b[0m \u001b[32m━━━━━━━━━━━━━━━━━━━━\u001b[0m\u001b[37m\u001b[0m \u001b[1m3s\u001b[0m 13ms/step\n",
            "Accuracy: 0.838\n",
            "\n",
            "Classification report:\n",
            "              precision    recall  f1-score   support\n",
            "\n",
            "           0     0.8207    0.8650    0.8423     12500\n",
            "           1     0.8573    0.8110    0.8335     12500\n",
            "\n",
            "    accuracy                         0.8380     25000\n",
            "   macro avg     0.8390    0.8380    0.8379     25000\n",
            "weighted avg     0.8390    0.8380    0.8379     25000\n",
            "\n",
            "Confusion matrix:\n",
            " [[10813  1687]\n",
            " [ 2363 10137]]\n"
          ]
        },
        {
          "output_type": "display_data",
          "data": {
            "text/plain": [
              "<Figure size 600x500 with 2 Axes>"
            ],
            "image/png": "[encoded data removed]"
          },
          "metadata": {}
        }
      ],
      "source": [
        "# Predict\n",
        "y_pred_probs = model.predict(x_test, batch_size=CONFIG['BATCH_SIZE'])\n",
        "y_pred = (y_pred_probs.flatten() >= 0.5).astype(int)\n",
        "print('Accuracy:', np.mean(y_pred == y_test))\n",
        "print('\\nClassification report:')\n",
        "print(classification_report(y_test, y_pred, digits=4))\n",
        "cm = confusion_matrix(y_test, y_pred)\n",
        "print('Confusion matrix:\\n', cm)\n",
        "# Plot confusion matrix\n",
        "plt.figure(figsize=(6,5))\n",
        "plt.imshow(cm, interpolation='nearest')\n",
        "plt.title('Confusion matrix')\n",
        "plt.colorbar()\n",
        "plt.xlabel('Predicted label')\n",
        "plt.ylabel('True label')\n",
        "for i in range(cm.shape[0]):\n",
        "    for j in range(cm.shape[1]):\n",
        "        plt.text(j, i, cm[i, j], ha='center', va='center', color='white' if cm[i, j] > cm.max()/2 else 'black')\n",
        "plt.show()\n"
      ],
      "id": "Mg6IAgeaIE81"
    },
    {
      "cell_type": "code",
      "metadata": {
        "colab": {
          "base_uri": "https://localhost:8080/"
        },
        "id": "VEpKGFxDIE81",
        "outputId": "e5f5e27f-829a-48c0-a99c-c4115510bc43"
      },
      "execution_count": 11,
      "outputs": [
        {
          "output_type": "stream",
          "name": "stderr",
          "text": [
            "WARNING:absl:You are saving your model as an HDF5 file via `model.save()` or `keras.saving.save_model(model)`. This file format is considered legacy. We recommend using instead the native Keras format, e.g. `model.save('my_model.keras')` or `keras.saving.save_model(model, 'my_model.keras')`. \n"
          ]
        },
        {
          "output_type": "stream",
          "name": "stdout",
          "text": [
            "IMDB index_word saved\n",
            "Model saved to /content/drive/MyDrive/sentiment_models/final_model.h5\n"
          ]
        }
      ],
      "source": [
        "import pickle\n",
        "TOKENIZER_PATH = os.path.join(CONFIG['MODEL_DIR'], 'tokenizer.pickle')\n",
        "MODEL_PATH = os.path.join(CONFIG['MODEL_DIR'], 'final_model.h5')\n",
        "try:\n",
        "    if not USE_IMDB:\n",
        "        with open(TOKENIZER_PATH, 'wb') as f:\n",
        "            pickle.dump(tokenizer, f)\n",
        "        print('Tokenizer saved to', TOKENIZER_PATH)\n",
        "    else:\n",
        "        with open(os.path.join(CONFIG['MODEL_DIR'], 'imdb_index_word.pickle'), 'wb') as f:\n",
        "            pickle.dump(index_word, f)\n",
        "        print('IMDB index_word saved')\n",
        "    model.save(MODEL_PATH)\n",
        "    print('Model saved to', MODEL_PATH)\n",
        "except Exception as e:\n",
        "    print('Save failed:', e)\n"
      ],
      "id": "VEpKGFxDIE81"
    },
    {
      "cell_type": "code",
      "metadata": {
        "colab": {
          "base_uri": "https://localhost:8080/"
        },
        "id": "knFsOybeIE82",
        "outputId": "98569f97-dca6-4b29-ff9b-6d095dc19490"
      },
      "execution_count": 23,
      "outputs": [
        {
          "output_type": "stream",
          "name": "stdout",
          "text": [
            "\u001b[1m1/1\u001b[0m \u001b[32m━━━━━━━━━━━━━━━━━━━━\u001b[0m\u001b[37m\u001b[0m \u001b[1m0s\u001b[0m 33ms/step\n",
            "I love this movie. It's fantastic and well-paced. -> {'probability': 0.7136836051940918, 'label': 'positive'}\n",
            "\u001b[1m1/1\u001b[0m \u001b[32m━━━━━━━━━━━━━━━━━━━━\u001b[0m\u001b[37m\u001b[0m \u001b[1m0s\u001b[0m 31ms/step\n",
            "This film was terrible, I hated every minute. -> {'probability': 0.6107036471366882, 'label': 'positive'}\n",
            "\u001b[1m1/1\u001b[0m \u001b[32m━━━━━━━━━━━━━━━━━━━━\u001b[0m\u001b[37m\u001b[0m \u001b[1m0s\u001b[0m 34ms/step\n",
            "It was okay, not great but not bad either. -> {'probability': 0.7312169671058655, 'label': 'positive'}\n",
            "\u001b[1m1/1\u001b[0m \u001b[32m━━━━━━━━━━━━━━━━━━━━\u001b[0m\u001b[37m\u001b[0m \u001b[1m0s\u001b[0m 32ms/step\n",
            "It was bad. -> {'probability': 0.19296737015247345, 'label': 'negative'}\n"
          ]
        }
      ],
      "source": [
        "import re\n",
        "from tensorflow.keras.preprocessing.sequence import pad_sequences\n",
        "from tensorflow.keras.preprocessing.text import Tokenizer\n",
        "\n",
        "\n",
        "\n",
        "def predict_text_sentiment(text, model, tokenizer=None, index_word=None, maxlen=CONFIG['MAXLEN']):\n",
        "    def clean_text(s):\n",
        "        s = s.lower()\n",
        "        s = re.sub(r'<.*?>', ' ', s)\n",
        "        s = re.sub(r\"[^a-z0-9\\s]\", ' ', s)\n",
        "        s = re.sub(r\"\\s+\", ' ', s).strip()\n",
        "        return s\n",
        "\n",
        "    text_clean = clean_text(text)\n",
        "    if USE_IMDB:\n",
        "\n",
        "        seq = []\n",
        "        for word in text_clean.split():\n",
        "            seq.append(word_index.get(word, 2))\n",
        "        seq = [seq]\n",
        "    else:\n",
        "\n",
        "        seq = tokenizer.texts_to_sequences([text_clean])\n",
        "\n",
        "    pad = pad_sequences(seq, maxlen=maxlen, padding='post', truncating='post')\n",
        "    prob = model.predict(pad)[0][0]\n",
        "    label = 'positive' if prob >= 0.5 else 'negative'\n",
        "    return {'probability': float(prob), 'label': label}\n",
        "\n",
        "# 🔹 Test predictions\n",
        "samples = [\n",
        "    \"I love this movie. It's fantastic and well-paced.\",\n",
        "    \"This film was terrible, I hated every minute.\",\n",
        "    \"It was okay, not great but not bad either.\",\n",
        "    \"It was bad.\"\n",
        "]\n",
        "\n",
        "for s in samples:\n",
        "    print(s, \"->\", predict_text_sentiment(s, model, tokenizer if not USE_IMDB else None, index_word if USE_IMDB else None))"
      ],
      "id": "knFsOybeIE82"
    },
    {
      "cell_type": "code",
      "source": [],
      "metadata": {
        "id": "DOEHSexFKOdZ"
      },
      "id": "DOEHSexFKOdZ",
      "execution_count": null,
      "outputs": []
    }
  ],
  "metadata": {
    "kernelspec": {
      "name": "python3",
      "display_name": "Python 3"
    },
    "language_info": {
      "name": "python",
      "version": "3.10"
    },
    "colab": {
      "provenance": [],
      "gpuType": "T4"
    },
    "accelerator": "GPU"
  },
  "nbformat": 4,
  "nbformat_minor": 5
}